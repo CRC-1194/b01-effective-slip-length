{
 "cells": [
  {
   "cell_type": "markdown",
   "metadata": {},
   "source": []
  },
  {
   "cell_type": "markdown",
   "metadata": {},
   "source": [
    "Karman transformations[1]\n",
    "$$ \\xi = z\\sqrt{\\frac{\\Omega}{\\nu}}\\qquad\\qquad\\qquad\\qquad\\qquad \\qquad\\qquad\\qquad\\quad\\quad(1)$$\n",
    "$$ u = \\Omega rf^{'}(\\xi) \\qquad\\qquad\\qquad\\qquad\\qquad\\qquad\\qquad\\qquad\\qquad (2)$$\n",
    "$$ v = \\Omega rg(\\xi) \\qquad\\qquad\\qquad\\qquad\\qquad\\qquad\\qquad\\qquad\\qquad (3)$$\n",
    "$$ w = -2\\sqrt{\\Omega \\nu}f(\\xi) \\qquad\\qquad\\qquad\\qquad\\qquad\\qquad\\qquad\\quad\\quad (4)$$\n",
    "thus navier-stikes equations are reduced to\n",
    "$$ F(\\xi) = f^{'''}+2ff^{''}-(f^{'})^2+g^2 = 0 \\qquad\\qquad\\qquad\\qquad\\quad (5)$$\n",
    "$$ G(\\xi) = g^{''}-2f^{'}g+2g^{'}f=0 \\qquad\\qquad\\qquad\\qquad\\qquad\\qquad (6)$$\n",
    "with the following 10 boundary conditions\n",
    "$$ f(0) = 0 \\qquad\\qquad\\qquad\\qquad\\qquad\\qquad\\qquad\\qquad\\qquad\\quad (7)$$\n",
    "$$ f^{'}(0) = 0 \\qquad\\qquad\\qquad\\qquad\\qquad\\qquad\\qquad\\qquad\\qquad\\quad (8)$$\n",
    "$$ g(0) = 0 \\qquad\\qquad\\qquad\\qquad\\qquad\\qquad\\qquad\\qquad\\qquad\\quad (9)$$\n",
    "$$ F(0) = 0 \\qquad\\qquad\\qquad\\qquad\\qquad\\qquad\\qquad\\qquad\\qquad\\quad (10)$$\n",
    "$$ G(0) = 0 \\qquad\\qquad\\qquad\\qquad\\qquad\\qquad\\qquad\\qquad\\qquad\\quad (11)$$\n",
    "$$ f(\\xi_{h}) = 0 \\qquad\\qquad\\qquad\\qquad\\qquad\\qquad\\qquad\\qquad\\qquad\\quad (12)$$\n",
    "$$ f^{'}(\\xi_{h}) = 0 \\qquad\\qquad\\qquad\\qquad\\qquad\\qquad\\qquad\\qquad\\qquad\\quad (13)$$\n",
    "$$ g(\\xi_{h}) = 1 \\qquad\\qquad\\qquad\\qquad\\qquad\\qquad\\qquad\\qquad\\qquad\\quad (14)$$\n",
    "$$ F(\\xi_{h}) = 0 \\qquad\\qquad\\qquad\\qquad\\qquad\\qquad\\qquad\\qquad\\qquad\\quad (15)$$\n",
    "$$ G(\\xi_{h}) = 0 \\qquad\\qquad\\qquad\\qquad\\qquad\\qquad\\qquad\\qquad\\qquad\\quad (16) $$\n",
    "where \n",
    "$$ \\xi_{h} = h\\sqrt{\\frac{\\Omega}{\\nu}} \\qquad\\qquad\\qquad\\qquad\\qquad\\qquad\\qquad\\qquad\\qquad (17)$$\n",
    "where $h$ is the height of the wedge.\n",
    "Suppose that\n",
    "$$ f(\\xi) = a_{1}\\xi^6+a_{2}\\xi^5+a_{3}\\xi^4+a_{4}\\xi^3+a_{5}\\xi+a_{6} \\qquad\\qquad\\qquad (18) $$\n",
    "$$ g(\\xi) =b_{1}\\xi^4+b_{2}\\xi^3+b_{3}\\xi^2+b_{4} \\qquad\\qquad\\qquad\\qquad\\qquad\\quad (19) $$\n",
    "Due to the 10 boundary conditions there can be maximal 10 coefficients, which can be assigned to the two functions. Here is one of the possibilities, which is found to fit the cfd-results relatively best.\n",
    "With (7) - (16) can be solved and expressed as \n",
    "$$ f(\\xi) = -\\frac{1}{24}(\\frac{\\xi^6}{\\xi^2_{h}}-2\\frac{\\xi^5}{\\xi_{h}}+\\xi^4) \\qquad\\qquad\\qquad\\quad\\qquad\\qquad\\quad (20)$$\n",
    "$$ g(\\xi) = -\\frac{\\xi^4}{\\xi^4_{h}}+2\\frac{\\xi^3}{\\xi^3_{h}} \\qquad\\qquad\\qquad\\quad\\qquad\\qquad\\qquad\\qquad\\quad (21)$$\n",
    "Therefore the components of the velocity can be written as\n",
    "$$ u(z) = -\\frac{r}{12}\\sqrt{\\frac{\\Omega^5}{\\nu^3}}(3\\frac{z^5}{h^3}-5\\frac{z^4}{h^2}+2\\frac{z^3}{h}) \\qquad\\qquad\\qquad\\quad\\quad (22)$$\n",
    "$$ v(z) = -\\Omega r(\\frac{z^4}{h^4}-2\\frac{z^3}{h^3}) \\qquad\\qquad\\qquad\\qquad\\qquad\\qquad\\quad\\quad (23)$$\n",
    "$$ w(z) = \\frac{\\Omega^2}{12\\nu}(\\frac{z^6}{h^3}-2\\frac{z^5}{h^2}+\\frac{z^4}{5}) \\qquad\\qquad\\qquad\\qquad\\qquad\\quad (24) $$\n",
    "$$$$\n",
    "References $$$$\n",
    "[1] C.Y.WANG. Exact solutions of the steady-state navier-stokes equations, 1991."
   ]
  },
  {
   "cell_type": "markdown",
   "metadata": {},
   "source": []
  }
 ],
 "metadata": {
  "kernelspec": {
   "display_name": "Python 3",
   "language": "python",
   "name": "python3"
  },
  "language_info": {
   "codemirror_mode": {
    "name": "ipython",
    "version": 3
   },
   "file_extension": ".py",
   "mimetype": "text/x-python",
   "name": "python",
   "nbconvert_exporter": "python",
   "pygments_lexer": "ipython3",
   "version": "3.7.6"
  }
 },
 "nbformat": 4,
 "nbformat_minor": 4
}
